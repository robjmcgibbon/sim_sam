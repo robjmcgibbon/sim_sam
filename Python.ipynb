{
 "cells": [
  {
   "cell_type": "code",
   "execution_count": 1,
   "id": "ccb92e01",
   "metadata": {},
   "outputs": [],
   "source": [
    "import h5py\n",
    "import numpy as np\n",
    "\n",
    "import helpers"
   ]
  },
  {
   "cell_type": "code",
   "execution_count": 17,
   "id": "1a82e2cf",
   "metadata": {},
   "outputs": [],
   "source": [
    "sim = 'tng100-3'\n",
    "base_dir = f'/home/rmcg/data/downloaded/tng/{sim}/'\n",
    "lhalotree_dir = base_dir + 'merger_tree/lhalotree/'\n",
    "\n",
    "with h5py.File(lhalotree_dir+'trees_sf1_099.0.hdf5', 'r') as file:\n",
    "    redshifts = np.array(file['/Header/Redshifts'])\n",
    "scale_factors = 1 / (1 + redshifts)"
   ]
  },
  {
   "cell_type": "markdown",
   "id": "c66c1c3f",
   "metadata": {},
   "source": [
    "<img src=\"papers/basic_picture.png\"/>\n",
    "\n",
    "## Gas rates\n",
    "- Use set operations based on particle IDs\n",
    "- Calculating gas temp can be taken from [here](https://www.tng-project.org/data/forum/topic/338/cold-and-hot-gas/)\n",
    "\n",
    "<u> Problems </u>\n",
    "- What happens to particle IDs when gas cells split?\n",
    "- Calculating R_hot->cold, cells are different masses in prog and sub snapshots\n",
    "\n",
    "\n",
    "## Star rates\n",
    "- Use GFM_StellarFormationTime to calculate number of stars formed\n",
    "\n",
    "<u> Problems </u>\n",
    "- Stellar particles brought in through mergers aren't accounted for, may mean I underestimate stellar mass\n",
    "- Stellar masses evolve over time\n",
    "- Wind particles\n"
   ]
  },
  {
   "cell_type": "code",
   "execution_count": 53,
   "id": "2dbc1d1a",
   "metadata": {},
   "outputs": [],
   "source": [
    "def calculate_efficiencies(snap, sub_id, prog_id, diff_dm_mass, stellar_mass):\n",
    "    \n",
    "    # Calculations using gas particles\n",
    "    gas_fields = ['Masses', 'ParticleIDs', 'StarFormationRate']\n",
    "    prog_g = helpers.loadSubhalo(base_dir, snap-1, prog_id, 0, fields=gas_fields)\n",
    "    prog_is_cold_gas = prog_g['StarFormationRate'] > 0\n",
    "    prog_is_hot_gas = np.logical_not(prog_is_cold_gas)\n",
    "    prog_cold_gas_ids = prog_g['ParticleIDs'][prog_is_cold_gas]\n",
    "    prog_hot_gas_ids = prog_g['ParticleIDs'][prog_is_hot_gas]\n",
    "    \n",
    "    sub_g = helpers.loadSubhalo(base_dir, snap, sub_id, 0, fields=gas_fields)\n",
    "    sub_is_cold_gas = sub_g['StarFormationRate'] > 0\n",
    "    sub_is_hot_gas = np.logical_not(sub_is_cold_gas)\n",
    "    sub_cold_gas_ids = sub_g['ParticleIDs'][sub_is_cold_gas]\n",
    "    sub_hot_gas_ids = sub_g['ParticleIDs'][sub_is_hot_gas]\n",
    "    \n",
    "    rate_hot_cold = 0\n",
    "    hot_to_cold_ids = set(np.intersect1d(prog_hot_gas_ids, sub_cold_gas_ids))\n",
    "    for (part_id, mass) in zip(sub_cold_gas_ids, sub_g['Masses'][sub_is_cold_gas]):\n",
    "        if part_id in hot_to_cold_ids:\n",
    "            rate_hot_cold += mass\n",
    "        \n",
    "    rate_cold_hot = 0\n",
    "    cold_to_hot_ids = set(np.intersect1d(prog_cold_gas_ids, sub_hot_gas_ids))\n",
    "    for (part_id, mass) in zip(prog_cold_gas_ids, prog_g['Masses'][prog_is_cold_gas]):\n",
    "        if part_id in cold_to_hot_ids:\n",
    "            rate_cold_hot += mass\n",
    "    \n",
    "    rate_accrete_hot = 0\n",
    "    accrete_hot_ids = set(np.setdiff1d(sub_hot_gas_ids, prog_g['ParticleIDs']))\n",
    "    for (part_id, mass) in zip(sub_hot_gas_ids, sub_g['Masses'][sub_is_hot_gas]):\n",
    "        if part_id in accrete_hot_ids:\n",
    "            rate_accrete_hot += mass\n",
    "    \n",
    "    cold_gas_mass = np.sum(sub_g['Masses'][sub_is_cold_gas])\n",
    "    hot_gas_mass = np.sum(sub_g['Masses'][sub_is_hot_gas])\n",
    "    \n",
    "    \n",
    "    # Calculations using star particles\n",
    "    sub_s = helpers.loadSubhalo(base_dir, snap, subhalo_id, 4,\n",
    "                                fields=['GFM_StellarFormationTime', 'Masses'])\n",
    "    assert np.isclose(sub_stellar_mass, np.sum(sub_s['Masses']))\n",
    "    recently_formed = sub_s['GFM_StellarFormationTime'] > scale_factors[snap-1]\n",
    "    rate_cold_stars = np.sum(sub_s['Masses'][recently_formed])\n",
    "    \n",
    "    # Calculating efficiencies\n",
    "    f_a = rate_accrete_hot / diff_dm_mass\n",
    "    f_c = rate_hot_cold / hot_gas_mass\n",
    "    f_s = rate_cold_stars / cold_gas_mass\n",
    "    f_d = rate_cold_hot / rate_cold_stars\n",
    "    \n",
    "    return f_a, f_c, f_s, f_d"
   ]
  },
  {
   "cell_type": "code",
   "execution_count": null,
   "id": "4f6d1a00",
   "metadata": {},
   "outputs": [],
   "source": []
  },
  {
   "cell_type": "code",
   "execution_count": 72,
   "id": "d76aeedc",
   "metadata": {},
   "outputs": [
    {
     "name": "stdout",
     "output_type": "stream",
     "text": [
      "Len sub_ids: 696413\n",
      "Len prog_ids: 681986\n",
      "Len intersect: 652293\n",
      "Prog mass: 0.00605, sub mass: 0.00601, increase: False\n",
      "Prog mass: 0.00556, sub mass: 0.00567, increase: True\n",
      "Prog mass: 0.00637, sub mass: 0.00666, increase: True\n",
      "Prog mass: 0.00622, sub mass: 0.00575, increase: False\n",
      "Prog mass: 0.0093, sub mass: 0.00885, increase: False\n",
      "Prog mass: 0.00598, sub mass: 0.006, increase: True\n",
      "Prog mass: 0.00508, sub mass: 0.00497, increase: False\n",
      "Prog mass: 0.00595, sub mass: 0.00554, increase: False\n",
      "Prog mass: 0.00513, sub mass: 0.00457, increase: False\n",
      "Prog mass: 0.00755, sub mass: 0.00673, increase: False\n"
     ]
    }
   ],
   "source": [
    "# How much does gas mass change?\n",
    "sub_g = helpers.loadSubhalo(base_dir, 99, 0, 0, fields=['Masses', 'ParticleIDs'])\n",
    "prog_g = helpers.loadSubhalo(base_dir, 98, 0, 0, fields=['Masses', 'ParticleIDs'])\n",
    "\n",
    "sub_ids = sub_g['ParticleIDs']\n",
    "print(f'Len sub_ids: {sub_ids.shape[0]}')\n",
    "prog_ids = prog_g['ParticleIDs']\n",
    "print(f'Len prog_ids: {prog_ids.shape[0]}')\n",
    "intersect = np.intersect1d(sub_ids, prog_ids)\n",
    "print(f'Len intersect: {intersect.shape[0]}')\n",
    "\n",
    "for part_id in intersect[:10]:\n",
    "    sub_mass = sub_g['Masses'][sub_g['ParticleIDs'] == part_id][0]\n",
    "    prog_mass = prog_g['Masses'][prog_g['ParticleIDs'] == part_id][0]\n",
    "    print(f'Prog mass: {prog_mass:.3g}, sub mass: {sub_mass:.3g}, increase: {sub_mass > prog_mass}')"
   ]
  }
 ],
 "metadata": {
  "kernelspec": {
   "display_name": "Python 3 (ipykernel)",
   "language": "python",
   "name": "python3"
  },
  "language_info": {
   "codemirror_mode": {
    "name": "ipython",
    "version": 3
   },
   "file_extension": ".py",
   "mimetype": "text/x-python",
   "name": "python",
   "nbconvert_exporter": "python",
   "pygments_lexer": "ipython3",
   "version": "3.10.4"
  }
 },
 "nbformat": 4,
 "nbformat_minor": 5
}
