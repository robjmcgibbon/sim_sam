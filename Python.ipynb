{
 "cells": [
  {
   "cell_type": "code",
   "execution_count": 1,
   "id": "ccb92e01",
   "metadata": {},
   "outputs": [],
   "source": [
    "import os\n",
    "\n",
    "import h5py\n",
    "import numpy as np\n",
    "\n",
    "import helpers"
   ]
  },
  {
   "cell_type": "code",
   "execution_count": 2,
   "id": "1a82e2cf",
   "metadata": {},
   "outputs": [],
   "source": [
    "snap = 99\n",
    "sim = 'tng100-3'\n",
    "\n",
    "base_dir = f'/home/rmcg/data/downloaded/tng/{sim}/'\n",
    "lhalotree_dir = base_dir + 'merger_tree/lhalotree/'\n",
    "with h5py.File(lhalotree_dir+'trees_sf1_099.0.hdf5', 'r') as file:\n",
    "    redshifts = np.array(file['/Header/Redshifts'])\n",
    "scale_factors = 1 / (1 + redshifts)"
   ]
  },
  {
   "cell_type": "code",
   "execution_count": 15,
   "id": "d69fb66b",
   "metadata": {},
   "outputs": [],
   "source": [
    "# sub refers to subhalo at snap\n",
    "# prog refers to progenitor subhalo at snap-1\n",
    "# Should I do a cut based on stellar mass?\n",
    "\n",
    "data = {}\n",
    "data['sub_id'] = np.array([], dtype='int32')\n",
    "data['prog_id'] = np.array([], dtype='int32')\n",
    "data['sub_stellar_mass'] = np.array([], dtype='float32')\n",
    "data['prog_stellar_mass'] = np.array([], dtype='float32')\n",
    "data['diff_dm_mass'] = np.array([], dtype='float32')\n",
    "#TODO: run for all files\n",
    "for file_name in os.listdir(lhalotree_dir)[:1]:\n",
    "    with h5py.File(lhalotree_dir+file_name, 'r') as file:\n",
    "        for tree_name in [key for key in file.keys() if 'Tree' in key]:\n",
    "            arr_sub_id = np.array(file[tree_name+'/SubhaloNumber'])\n",
    "            arr_gas_mass = np.array(file[tree_name+'/SubhaloMassType'][:, 0])\n",
    "            arr_dm_mass = np.array(file[tree_name+'/SubhaloMassType'][:, 1])\n",
    "            arr_stellar_mass = np.array(file[tree_name+'/SubhaloMassType'][:, 4])\n",
    "            arr_snap_num = np.array(file[tree_name+'/SnapNum'])\n",
    "            \n",
    "            arr_central_index = np.array(file[tree_name+'/FirstHaloInFOFGroup'])\n",
    "            arr_is_central = np.zeros(arr_sub_id.shape[0], dtype=bool)\n",
    "            for i_sub, i_central in enumerate(arr_central_index):\n",
    "                arr_is_central[i_sub] = (i_sub == i_central)\n",
    "                \n",
    "            arr_prog_index = np.array(file[tree_name+'/FirstProgenitor'])\n",
    "            arr_prog_id = -1 * np.ones(arr_sub_id.shape[0], dtype='int32')\n",
    "            arr_prog_dm_mass = np.zeros(arr_sub_id.shape[0], dtype='float32')\n",
    "            arr_prog_stellar_mass = np.zeros(arr_sub_id.shape[0], dtype='float32')\n",
    "            for i_sub, i_prog in enumerate(arr_prog_index.copy()):\n",
    "                if (\n",
    "                        i_prog != -1 and                      # Check progenitor exists\n",
    "                        arr_snap_num[i_prog] == snap - 1 and  # Check snapshot isn't skipped\n",
    "                        arr_is_central[i_prog] and            # Require central subhalo\n",
    "                        arr_stellar_mass[i_prog] != 0 and     # Require nonzero stellar mass\n",
    "                        arr_gas_mass[i_prog] != 0             # Require nonzero gas mass\n",
    "                    ):\n",
    "                    arr_prog_id[i_sub] = arr_sub_id[i_prog]\n",
    "                    arr_prog_dm_mass[i_sub] = arr_dm_mass[i_prog]\n",
    "                    arr_prog_stellar_mass[i_sub] = arr_stellar_mass[i_prog]\n",
    "\n",
    "            mask = (arr_snap_num == snap)\n",
    "            mask &= arr_is_central\n",
    "            mask &= (arr_prog_id != -1)\n",
    "            mask &= (arr_stellar_mass != 0)\n",
    "            mask &= (arr_gas_mass != 0)\n",
    "            \n",
    "            data['sub_id'] = np.concatenate([data['sub_id'], arr_sub_id[mask]])\n",
    "            data['prog_id'] = np.concatenate([data['prog_id'], arr_prog_id[mask]])\n",
    "            data['sub_stellar_mass'] = np.concatenate([data['sub_stellar_mass'], arr_stellar_mass[mask]])\n",
    "            data['prog_stellar_mass'] = np.concatenate([data['prog_stellar_mass'], arr_prog_stellar_mass[mask]])\n",
    "            diff_dm_mass = arr_dm_mass[mask] - arr_prog_dm_mass[mask]\n",
    "            data['diff_dm_mass'] = np.concatenate([data['diff_dm_mass'], diff_dm_mass])\n",
    "            \n",
    "n_valid = data['sub_id'].shape[0]"
   ]
  },
  {
   "cell_type": "markdown",
   "id": "c66c1c3f",
   "metadata": {},
   "source": [
    "<img src=\"papers/basic_picture.png\"/>\n",
    "\n",
    "## Gas rates\n",
    "- Use set operations based on particle IDs\n",
    "- Calculating gas temp can be taken from [here](https://www.tng-project.org/data/forum/topic/338/cold-and-hot-gas/)\n",
    "\n",
    "<u> Problems </u>\n",
    "- What happens to particle IDs when gas cells split?\n",
    "- Gas cells are different masses in prog and sub snapshots (average over both?)\n",
    "- What to return for galaxies which have no cold gas?\n",
    "\n",
    "\n",
    "## Star rates\n",
    "- Use GFM_StellarFormationTime to calculate number of stars formed\n",
    "\n",
    "<u> Problems </u>\n",
    "- Stellar particles brought in through mergers aren't accounted for, may mean I underestimate stellar mass\n",
    "- Stellar masses evolve over time\n",
    "- Wind particles\n",
    "- Stellar mass from particles is sometimes more than from subfind (only less by factor of 10^7)"
   ]
  },
  {
   "cell_type": "code",
   "execution_count": 58,
   "id": "2dbc1d1a",
   "metadata": {},
   "outputs": [],
   "source": [
    "def calculate_efficiencies(snap, sub_id, prog_id, diff_dm_mass, \n",
    "                           sub_stellar_mass, prog_stellar_mass):\n",
    "    \n",
    "    # Calculations using gas particles\n",
    "    gas_fields = ['Masses', 'ParticleIDs', 'StarFormationRate']\n",
    "    prog_g = helpers.loadSubhalo(base_dir, snap-1, prog_id, 0, fields=gas_fields)\n",
    "    prog_is_cold_gas = prog_g['StarFormationRate'] > 0\n",
    "    prog_is_hot_gas = np.logical_not(prog_is_cold_gas)\n",
    "    prog_cold_gas_ids = prog_g['ParticleIDs'][prog_is_cold_gas]\n",
    "    prog_hot_gas_ids = prog_g['ParticleIDs'][prog_is_hot_gas]\n",
    "    \n",
    "    sub_g = helpers.loadSubhalo(base_dir, snap, sub_id, 0, fields=gas_fields)\n",
    "    sub_is_cold_gas = sub_g['StarFormationRate'] > 0\n",
    "    sub_is_hot_gas = np.logical_not(sub_is_cold_gas)\n",
    "    sub_cold_gas_ids = sub_g['ParticleIDs'][sub_is_cold_gas]\n",
    "    sub_hot_gas_ids = sub_g['ParticleIDs'][sub_is_hot_gas]\n",
    "    \n",
    "    rate_hot_cold = 0\n",
    "    hot_to_cold_ids = set(np.intersect1d(prog_hot_gas_ids, sub_cold_gas_ids))\n",
    "    for (part_id, mass) in zip(sub_cold_gas_ids, sub_g['Masses'][sub_is_cold_gas]):\n",
    "        if part_id in hot_to_cold_ids:\n",
    "            rate_hot_cold += mass\n",
    "        \n",
    "    rate_cold_hot = 0\n",
    "    cold_to_hot_ids = set(np.intersect1d(prog_cold_gas_ids, sub_hot_gas_ids))\n",
    "    for (part_id, mass) in zip(prog_cold_gas_ids, prog_g['Masses'][prog_is_cold_gas]):\n",
    "        if part_id in cold_to_hot_ids:\n",
    "            rate_cold_hot += mass\n",
    "    \n",
    "    rate_accrete_hot = 0\n",
    "    accrete_hot_ids = set(np.setdiff1d(sub_hot_gas_ids, prog_g['ParticleIDs']))\n",
    "    for (part_id, mass) in zip(sub_hot_gas_ids, sub_g['Masses'][sub_is_hot_gas]):\n",
    "        if part_id in accrete_hot_ids:\n",
    "            rate_accrete_hot += mass\n",
    "    \n",
    "    cold_gas_mass = np.sum(sub_g['Masses'][sub_is_cold_gas])\n",
    "    hot_gas_mass = np.sum(sub_g['Masses'][sub_is_hot_gas])\n",
    "     \n",
    "    # Calculations using star particles\n",
    "    stellar_fields = ['GFM_StellarFormationTime', 'Masses']\n",
    "    sub_s = helpers.loadSubhalo(base_dir, snap, sub_id, 4, fields=stellar_fields)\n",
    "    sub_ratio = sub_stellar_mass / np.sum(sub_s['Masses'])\n",
    "    assert abs(sub_ratio - 1) < 0.001, f'Sub stellar ratio: {sub_ratio:.3g}'\n",
    "#     assert np.isclose(sub_stellar_mass, np.sum(sub_s['Masses']), rtol=1e-3), 'Sub stellar mass'\n",
    "    recently_formed = sub_s['GFM_StellarFormationTime'] > scale_factors[snap-1]\n",
    "    rate_cold_stars = np.sum(sub_s['Masses'][recently_formed])\n",
    "\n",
    "    prog_s = helpers.loadSubhalo(base_dir, snap-1, prog_id, 4, fields=['Masses'])\n",
    "    prog_ratio = prog_stellar_mass / np.sum(prog_s)\n",
    "    assert abs(prog_ratio - 1) < 0.001, f'Prog stellar ratio: {prog_ratio:.3g}'\n",
    "#     assert np.isclose(prog_stellar_mass, np.sum(prog_s), rtol=1e-3), 'Prog stellar mass'\n",
    "    \n",
    "    # Calculating efficiencies\n",
    "    f_a = rate_accrete_hot / diff_dm_mass if diff_dm_mass else -1\n",
    "    f_c = rate_hot_cold / hot_gas_mass if hot_gas_mass else -1\n",
    "    f_s = rate_cold_stars / cold_gas_mass if cold_gas_mass else -1\n",
    "    f_d = rate_cold_hot / rate_cold_stars if rate_cold_stars else -1\n",
    "    \n",
    "    return f_a, f_c, f_s, f_d"
   ]
  },
  {
   "cell_type": "code",
   "execution_count": 59,
   "id": "4f6d1a00",
   "metadata": {},
   "outputs": [
    {
     "name": "stdout",
     "output_type": "stream",
     "text": [
      "Sub stellar ratio: 0.997, 1746 assertion error for i=461\n",
      "Prog stellar ratio: 0.982 assertion error for i=524\n",
      "Prog stellar ratio: 0.998 assertion error for i=541\n",
      "Prog stellar ratio: 0.965 assertion error for i=580\n",
      "Prog stellar ratio: 0.998 assertion error for i=889\n",
      "Prog stellar ratio: 0.97 assertion error for i=932\n",
      "Sub stellar ratio: 0.998, 2014 assertion error for i=1251\n",
      "Prog stellar ratio: 0.997 assertion error for i=1546\n"
     ]
    }
   ],
   "source": [
    "data['f_a'] = np.zeros(n_valid, dtype='float32')\n",
    "data['f_c'] = np.zeros(n_valid, dtype='float32')\n",
    "data['f_s'] = np.zeros(n_valid, dtype='float32')\n",
    "data['f_d'] = np.zeros(n_valid, dtype='float32')\n",
    "for i in range(n_valid):\n",
    "    sub_id = data['sub_id'][i]\n",
    "    prog_id = data['prog_id'][i]\n",
    "    diff_dm_mass = data['diff_dm_mass'][i]\n",
    "    sub_stellar_mass = data['sub_stellar_mass'][i]\n",
    "    prog_stellar_mass = data['prog_stellar_mass'][i]\n",
    "    try:\n",
    "        f_a, f_c, f_s, f_d = calculate_efficiencies(\n",
    "            snap, sub_id, prog_id, diff_dm_mass, sub_stellar_mass, prog_stellar_mass\n",
    "        )\n",
    "        data['f_a'][i] = f_a\n",
    "        data['f_c'][i] = f_c\n",
    "        data['f_s'][i] = f_s\n",
    "        data['f_d'][i] = f_d\n",
    "    except AssertionError as error_message:\n",
    "        print(f'{error_message} assertion error for i={i}')"
   ]
  },
  {
   "cell_type": "code",
   "execution_count": 73,
   "id": "ee687099",
   "metadata": {},
   "outputs": [
    {
     "ename": "IndexError",
     "evalue": "too many indices for array: array is 0-dimensional, but 1 were indexed",
     "output_type": "error",
     "traceback": [
      "\u001b[0;31m---------------------------------------------------------------------------\u001b[0m",
      "\u001b[0;31mIndexError\u001b[0m                                Traceback (most recent call last)",
      "Input \u001b[0;32mIn [73]\u001b[0m, in \u001b[0;36m<cell line: 1>\u001b[0;34m()\u001b[0m\n\u001b[0;32m----> 1\u001b[0m \u001b[43mnp\u001b[49m\u001b[38;5;241;43m.\u001b[39;49m\u001b[43marray\u001b[49m\u001b[43m(\u001b[49m\u001b[43mdata\u001b[49m\u001b[43m)\u001b[49m\u001b[43m[\u001b[49m\u001b[38;5;241;43m0\u001b[39;49m\u001b[43m]\u001b[49m\n",
      "\u001b[0;31mIndexError\u001b[0m: too many indices for array: array is 0-dimensional, but 1 were indexed"
     ]
    }
   ],
   "source": []
  },
  {
   "cell_type": "code",
   "execution_count": 65,
   "id": "38234d3c",
   "metadata": {},
   "outputs": [
    {
     "ename": "ModuleNotFoundError",
     "evalue": "No module named 'pandas'",
     "output_type": "error",
     "traceback": [
      "\u001b[0;31m---------------------------------------------------------------------------\u001b[0m",
      "\u001b[0;31mModuleNotFoundError\u001b[0m                       Traceback (most recent call last)",
      "Input \u001b[0;32mIn [65]\u001b[0m, in \u001b[0;36m<cell line: 1>\u001b[0;34m()\u001b[0m\n\u001b[0;32m----> 1\u001b[0m \u001b[38;5;28;01mimport\u001b[39;00m \u001b[38;5;21;01mpandas\u001b[39;00m \u001b[38;5;28;01mas\u001b[39;00m \u001b[38;5;21;01mpd\u001b[39;00m\n",
      "\u001b[0;31mModuleNotFoundError\u001b[0m: No module named 'pandas'"
     ]
    }
   ],
   "source": [
    "import pandas as pd"
   ]
  },
  {
   "cell_type": "code",
   "execution_count": null,
   "id": "92ebe80e",
   "metadata": {},
   "outputs": [],
   "source": [
    "# TODO: Save data as hdf5?\n",
    "# TODO: Histograms of efficiencies\n",
    "# TODO: Logging so I know how long a run takes\n",
    "# TODO: Multiprocessing"
   ]
  },
  {
   "cell_type": "code",
   "execution_count": 64,
   "id": "d76aeedc",
   "metadata": {},
   "outputs": [
    {
     "name": "stdout",
     "output_type": "stream",
     "text": [
      "Len sub_ids: 696413\n",
      "Len prog_ids: 681986\n",
      "Len intersect: 652293\n",
      "Prog mass: 0.00605, sub mass: 0.00601, increase: False\n",
      "Prog mass: 0.00556, sub mass: 0.00567, increase: True\n",
      "Prog mass: 0.00637, sub mass: 0.00666, increase: True\n",
      "Prog mass: 0.00622, sub mass: 0.00575, increase: False\n",
      "Prog mass: 0.0093, sub mass: 0.00885, increase: False\n"
     ]
    }
   ],
   "source": [
    "# How much does gas mass change? Assumes prog_id=0 is progenitor of sub_id=0\n",
    "sub_g = helpers.loadSubhalo(base_dir, 99, 0, 0, fields=['Masses', 'ParticleIDs'])\n",
    "prog_g = helpers.loadSubhalo(base_dir, 98, 0, 0, fields=['Masses', 'ParticleIDs'])\n",
    "\n",
    "sub_ids = sub_g['ParticleIDs']\n",
    "print(f'Len sub_ids: {sub_ids.shape[0]}')\n",
    "prog_ids = prog_g['ParticleIDs']\n",
    "print(f'Len prog_ids: {prog_ids.shape[0]}')\n",
    "intersect = np.intersect1d(sub_ids, prog_ids)\n",
    "print(f'Len intersect: {intersect.shape[0]}')\n",
    "\n",
    "for part_id in intersect[:5]:\n",
    "    sub_mass = sub_g['Masses'][sub_g['ParticleIDs'] == part_id][0]\n",
    "    prog_mass = prog_g['Masses'][prog_g['ParticleIDs'] == part_id][0]\n",
    "    print(f'Prog mass: {prog_mass:.3g}, sub mass: {sub_mass:.3g}, increase: {sub_mass > prog_mass}')"
   ]
  },
  {
   "cell_type": "code",
   "execution_count": null,
   "id": "7d2e3fc7",
   "metadata": {},
   "outputs": [],
   "source": []
  }
 ],
 "metadata": {
  "kernelspec": {
   "display_name": "Python 3 (ipykernel)",
   "language": "python",
   "name": "python3"
  },
  "language_info": {
   "codemirror_mode": {
    "name": "ipython",
    "version": 3
   },
   "file_extension": ".py",
   "mimetype": "text/x-python",
   "name": "python",
   "nbconvert_exporter": "python",
   "pygments_lexer": "ipython3",
   "version": "3.10.4"
  }
 },
 "nbformat": 4,
 "nbformat_minor": 5
}
